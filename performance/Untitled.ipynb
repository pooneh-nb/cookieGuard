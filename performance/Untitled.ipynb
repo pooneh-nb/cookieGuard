{
 "cells": [
  {
   "cell_type": "code",
   "execution_count": 12,
   "metadata": {},
   "outputs": [],
   "source": [
    "import numpy as np\n",
    "import pandas as pd\n",
    "import utilities\n",
    "from pathlib import Path"
   ]
  },
  {
   "cell_type": "code",
   "execution_count": 6,
   "metadata": {},
   "outputs": [],
   "source": [
    "# load data\n",
    "performance_extension_path = Path(Path.cwd().parent, 'performance/performance_EXTENSION.json')\n",
    "performance_extension = utilities.read_json(performance_extension_path)\n",
    "\n",
    "performance_no_extension_path = Path(Path.cwd().parent, 'performance/performance_NO_EXTENSION.json')\n",
    "performance_no_extension = utilities.read_json(performance_no_extension_path)"
   ]
  },
  {
   "cell_type": "code",
   "execution_count": 9,
   "metadata": {},
   "outputs": [],
   "source": [
    "# find sites cralwed in both configs\n",
    "extension_sites = set()\n",
    "no_extension_sites = set()\n",
    "\n",
    "for record in performance_extension:\n",
    "    if record[\"dom_content_loaded\"] > 0 and record[\"dom_interactive\"] > 0 and record[\"load_event_time\"] > 0:\n",
    "        extension_sites.add(record[\"url\"])\n",
    "\n",
    "for record in performance_no_extension:\n",
    "    if record[\"dom_content_loaded\"] > 0 and record[\"dom_interactive\"] > 0 and record[\"load_event_time\"] > 0:\n",
    "        no_extension_sites.add(record[\"url\"])"
   ]
  },
  {
   "cell_type": "code",
   "execution_count": 10,
   "metadata": {},
   "outputs": [],
   "source": [
    "# list the numbers\n",
    "extension_records = {'dom_content_loaded': [], 'dom_interactive': [], 'load_event_time': []}\n",
    "no_extension_records = {'dom_content_loaded': [], 'dom_interactive': [], 'load_event_time': []}\n",
    "\n",
    "for record in performance_extension:\n",
    "    if record[\"url\"] in extension_sites and record[\"url\"] in no_extension_sites:\n",
    "        extension_records['dom_content_loaded'].append(record['dom_content_loaded'])\n",
    "        extension_records['dom_interactive'].append(record['dom_interactive'])\n",
    "        extension_records['load_event_time'].append(record['load_event_time'])\n",
    "\n",
    "\n",
    "for record in performance_no_extension:\n",
    "    if record[\"url\"] in extension_sites and record[\"url\"] in no_extension_sites:\n",
    "        no_extension_records['dom_content_loaded'].append(record['dom_content_loaded'])\n",
    "        no_extension_records['dom_interactive'].append(record['dom_interactive'])\n",
    "        no_extension_records['load_event_time'].append(record['load_event_time'])"
   ]
  },
  {
   "cell_type": "code",
   "execution_count": 11,
   "metadata": {},
   "outputs": [
    {
     "name": "stdout",
     "output_type": "stream",
     "text": [
      "Extension\n",
      "==========================\n",
      "dom_content_loaded: \n",
      "mean:  1895.568701823076 median:  1020.0\n",
      "dom_interactive: \n",
      "mean:  1702.153187324116 median:  911.0\n",
      "load_event_time: \n",
      "mean:  3635.015416615686 median:  2136.0\n",
      "NO Extension\n",
      "==========================\n",
      "dom_content_loaded: \n",
      "mean:  1659.3808242631771 median:  964.0\n",
      "dom_interactive: \n",
      "mean:  1463.8422404304756 median:  842.0\n",
      "load_event_time: \n",
      "mean:  3196.9717500305737 median:  2008.0\n"
     ]
    }
   ],
   "source": [
    "print(\"Extension\")\n",
    "print(\"==========================\")\n",
    "print(\"dom_content_loaded: \")\n",
    "print(\"mean: \", np.mean(extension_records['dom_content_loaded']), \n",
    "      \"median: \", np.median(extension_records['dom_content_loaded']))\n",
    "\n",
    "print(\"dom_interactive: \")\n",
    "print(\"mean: \", np.mean(extension_records['dom_interactive']), \n",
    "      \"median: \", np.median(extension_records['dom_interactive']))\n",
    "\n",
    "print(\"load_event_time: \")\n",
    "print(\"mean: \", np.mean(extension_records['load_event_time']), \n",
    "      \"median: \", np.median(extension_records['load_event_time']))\n",
    "\n",
    "\n",
    "print(\"NO Extension\")\n",
    "print(\"==========================\")\n",
    "print(\"dom_content_loaded: \")\n",
    "print(\"mean: \", np.mean(no_extension_records['dom_content_loaded']), \n",
    "      \"median: \", np.median(no_extension_records['dom_content_loaded']))\n",
    "\n",
    "print(\"dom_interactive: \")\n",
    "print(\"mean: \", np.mean(no_extension_records['dom_interactive']), \n",
    "      \"median: \", np.median(no_extension_records['dom_interactive']))\n",
    "\n",
    "print(\"load_event_time: \")\n",
    "print(\"mean: \", np.mean(no_extension_records['load_event_time']), \n",
    "      \"median: \", np.median(no_extension_records['load_event_time']))"
   ]
  },
  {
   "cell_type": "code",
   "execution_count": 20,
   "metadata": {},
   "outputs": [],
   "source": [
    "# filter out outliers\n",
    "def iqr(data_list):\n",
    "    data = pd.Series(data_list)\n",
    "   \n",
    "\n",
    "    # Calculate Q1 and Q3\n",
    "    Q1 = data.quantile(0.25)\n",
    "    Q3 = data.quantile(0.75)\n",
    "    IQR = Q3 - Q1\n",
    "\n",
    "    # Define limits for outlier\n",
    "    lower_limit = Q1 - 1.5 * IQR\n",
    "    upper_limit = Q3 + 1.5 * IQR\n",
    "\n",
    "    # Filter out outliers\n",
    "    filtered_data = data[(data >= lower_limit) & (data <= upper_limit)]\n",
    "    print(len(filtered_data))\n",
    "    # Calculate mean and median\n",
    "    mean = filtered_data.mean()\n",
    "    median = filtered_data.median()\n",
    "\n",
    "#     print(\"Filtered Data:\", filtered_data.tolist())\n",
    "    print(\"Mean:\", mean)\n",
    "    print(\"Median:\", median)"
   ]
  },
  {
   "cell_type": "code",
   "execution_count": 21,
   "metadata": {},
   "outputs": [
    {
     "name": "stdout",
     "output_type": "stream",
     "text": [
      "7324\n",
      "Mean: 1239.2841343528128\n",
      "Median: 894.0\n",
      "7317\n",
      "Mean: 1085.0959409594095\n",
      "Median: 792.0\n",
      "7684\n",
      "Mean: 2932.3092139510672\n",
      "Median: 1960.5\n"
     ]
    }
   ],
   "source": [
    "# filter out outliers\n",
    "# extension data\n",
    "iqr(extension_records['dom_content_loaded'])\n",
    "iqr(extension_records['dom_interactive'])\n",
    "iqr(extension_records['load_event_time'])"
   ]
  },
  {
   "cell_type": "code",
   "execution_count": 22,
   "metadata": {},
   "outputs": [
    {
     "name": "stdout",
     "output_type": "stream",
     "text": [
      "7483\n",
      "Mean: 1179.9016437257785\n",
      "Median: 861.0\n",
      "7501\n",
      "Mean: 1031.394214104786\n",
      "Median: 752.0\n",
      "7862\n",
      "Mean: 2746.147545153905\n",
      "Median: 1902.0\n"
     ]
    }
   ],
   "source": [
    "# NO extension data\n",
    "iqr(no_extension_records['dom_content_loaded'])\n",
    "iqr(no_extension_records['dom_interactive'])\n",
    "iqr(no_extension_records['load_event_time'])"
   ]
  }
 ],
 "metadata": {
  "kernelspec": {
   "display_name": "Python 3",
   "language": "python",
   "name": "python3"
  },
  "language_info": {
   "codemirror_mode": {
    "name": "ipython",
    "version": 3
   },
   "file_extension": ".py",
   "mimetype": "text/x-python",
   "name": "python",
   "nbconvert_exporter": "python",
   "pygments_lexer": "ipython3",
   "version": "3.7.3"
  }
 },
 "nbformat": 4,
 "nbformat_minor": 2
}
